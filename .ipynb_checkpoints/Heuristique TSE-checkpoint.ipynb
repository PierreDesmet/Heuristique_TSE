{
 "cells": [
  {
   "cell_type": "markdown",
   "metadata": {},
   "source": [
    "# 2 - Heuristique TSE\n",
    "On s'intéresse à savoir :\n",
    "- si une interaction du type $X_i \\circ X_j$ pour prédire une cible peut être créée (où $\\circ$ désigne n'importe quel opérateur arithmétique parmi {+, -, *, /})\n",
    "- si cette interaction est logique et *suffisamment* significative\n",
    "\n",
    "**Exemple : **\n",
    "1. on teste l'interaction $x_2 \\times x_{13}$ sur une cible. \n",
    "1. Règle du pouce : si la corrélation entre $x_2 \\times x_{13}$ est plus grande que la plus grande corrélation existante$^*$ du dataset, on créé la feature. \n",
    "1. On vérifie que l'interaction créée est significative : \n",
    "    - avec une logique métier (prior)\n",
    "    - sur un échantillon de validation, pour une corrélation de <a href='https://en.wikipedia.org/wiki/Pearson_correlation_coefficient'>Pearson</a>, et pour une corrélation de <a href='https://en.wikipedia.org/wiki/Spearman%27s_rank_correlation_coefficient'>Spearman</a>\n",
    "1. Les interactions significatives sur ces 3 critères peuvent être ajoutées à un modèle.\n",
    "\n",
    "$^*$Cette corrélation peut être mesurée avec le coefficient de Pearson (si les données sont normales, rapide), ou avec le coefficient de Spearman (non paramétrique, lent). \n",
    "\n",
    "**Remarques :**\n",
    "- Les interactions ne peuvent être créées qu'avec des types numériques (entier, flottants, booléens). \n",
    "- Les *nan* sont tolérés, mais ne serviront pas au calcul des corrélations.\n",
    "- Plus un dataset est \"facile\" à prédire (i.e. les $X_i$ sont fortement corrélés à la cible), plus le paramètre `marge` devra être élevé.\n",
    "\n",
    "*Author: B011LDG*"
   ]
  },
  {
   "cell_type": "markdown",
   "metadata": {},
   "source": [
    "### Import et préparation des données"
   ]
  },
  {
   "cell_type": "code",
   "execution_count": 1,
   "metadata": {},
   "outputs": [],
   "source": [
    "import pandas as pd ; pd.set_option(\"max_columns\", 60)\n",
    "import numpy as np\n",
    "from Heuristique_TSE import *"
   ]
  },
  {
   "cell_type": "code",
   "execution_count": 2,
   "metadata": {},
   "outputs": [
    {
     "name": "stdout",
     "output_type": "stream",
     "text": [
      "(532, 23)\n"
     ]
    },
    {
     "data": {
      "text/html": [
       "<div>\n",
       "<style scoped>\n",
       "    .dataframe tbody tr th:only-of-type {\n",
       "        vertical-align: middle;\n",
       "    }\n",
       "\n",
       "    .dataframe tbody tr th {\n",
       "        vertical-align: top;\n",
       "    }\n",
       "\n",
       "    .dataframe thead th {\n",
       "        text-align: right;\n",
       "    }\n",
       "</style>\n",
       "<table border=\"1\" class=\"dataframe\">\n",
       "  <thead>\n",
       "    <tr style=\"text-align: right;\">\n",
       "      <th></th>\n",
       "      <th>age</th>\n",
       "      <th>charmes</th>\n",
       "      <th>identifiant</th>\n",
       "      <th>label</th>\n",
       "      <th>mails</th>\n",
       "      <th>from_europ</th>\n",
       "      <th>paniers</th>\n",
       "      <th>poids</th>\n",
       "      <th>tabac</th>\n",
       "      <th>taille</th>\n",
       "      <th>lunettes</th>\n",
       "      <th>tatouage</th>\n",
       "      <th>piercing</th>\n",
       "      <th>accessibilité</th>\n",
       "      <th>long_description</th>\n",
       "      <th>nbMots_description</th>\n",
       "      <th>IMC</th>\n",
       "      <th>a_redoublé</th>\n",
       "      <th>nb_series_communes</th>\n",
       "      <th>distanceToMe</th>\n",
       "      <th>est_de_nuit</th>\n",
       "      <th>may_be_maman</th>\n",
       "      <th>pct_complétion</th>\n",
       "    </tr>\n",
       "  </thead>\n",
       "  <tbody>\n",
       "    <tr>\n",
       "      <th>0</th>\n",
       "      <td>23.0</td>\n",
       "      <td>74.0</td>\n",
       "      <td>115353179.0</td>\n",
       "      <td>1.0</td>\n",
       "      <td>0.0</td>\n",
       "      <td>1.0</td>\n",
       "      <td>0.0</td>\n",
       "      <td>NaN</td>\n",
       "      <td>0.0</td>\n",
       "      <td>165.0</td>\n",
       "      <td>0.0</td>\n",
       "      <td>0.0</td>\n",
       "      <td>0.0</td>\n",
       "      <td>0.000000</td>\n",
       "      <td>367.0</td>\n",
       "      <td>64.0</td>\n",
       "      <td>NaN</td>\n",
       "      <td>0.0</td>\n",
       "      <td>0.0</td>\n",
       "      <td>30.932590</td>\n",
       "      <td>0.0</td>\n",
       "      <td>0.0</td>\n",
       "      <td>0.750000</td>\n",
       "    </tr>\n",
       "    <tr>\n",
       "      <th>1</th>\n",
       "      <td>25.0</td>\n",
       "      <td>337.0</td>\n",
       "      <td>113878261.0</td>\n",
       "      <td>1.0</td>\n",
       "      <td>15.0</td>\n",
       "      <td>0.0</td>\n",
       "      <td>4.0</td>\n",
       "      <td>55.0</td>\n",
       "      <td>0.0</td>\n",
       "      <td>165.0</td>\n",
       "      <td>0.0</td>\n",
       "      <td>0.0</td>\n",
       "      <td>0.0</td>\n",
       "      <td>0.044510</td>\n",
       "      <td>0.0</td>\n",
       "      <td>0.0</td>\n",
       "      <td>20.20202</td>\n",
       "      <td>0.0</td>\n",
       "      <td>0.0</td>\n",
       "      <td>18.980000</td>\n",
       "      <td>0.0</td>\n",
       "      <td>0.0</td>\n",
       "      <td>0.750000</td>\n",
       "    </tr>\n",
       "    <tr>\n",
       "      <th>2</th>\n",
       "      <td>26.0</td>\n",
       "      <td>475.0</td>\n",
       "      <td>114925419.0</td>\n",
       "      <td>1.0</td>\n",
       "      <td>28.0</td>\n",
       "      <td>1.0</td>\n",
       "      <td>0.0</td>\n",
       "      <td>50.0</td>\n",
       "      <td>0.0</td>\n",
       "      <td>160.0</td>\n",
       "      <td>1.0</td>\n",
       "      <td>0.0</td>\n",
       "      <td>0.0</td>\n",
       "      <td>0.058947</td>\n",
       "      <td>0.0</td>\n",
       "      <td>0.0</td>\n",
       "      <td>19.53125</td>\n",
       "      <td>0.0</td>\n",
       "      <td>1.0</td>\n",
       "      <td>21.195632</td>\n",
       "      <td>0.0</td>\n",
       "      <td>0.0</td>\n",
       "      <td>0.791667</td>\n",
       "    </tr>\n",
       "    <tr>\n",
       "      <th>3</th>\n",
       "      <td>20.0</td>\n",
       "      <td>144.0</td>\n",
       "      <td>114856526.0</td>\n",
       "      <td>1.0</td>\n",
       "      <td>10.0</td>\n",
       "      <td>0.0</td>\n",
       "      <td>0.0</td>\n",
       "      <td>NaN</td>\n",
       "      <td>0.0</td>\n",
       "      <td>160.0</td>\n",
       "      <td>0.0</td>\n",
       "      <td>0.0</td>\n",
       "      <td>0.0</td>\n",
       "      <td>0.069444</td>\n",
       "      <td>391.0</td>\n",
       "      <td>64.0</td>\n",
       "      <td>NaN</td>\n",
       "      <td>0.0</td>\n",
       "      <td>1.0</td>\n",
       "      <td>10.500000</td>\n",
       "      <td>0.0</td>\n",
       "      <td>0.0</td>\n",
       "      <td>0.833333</td>\n",
       "    </tr>\n",
       "    <tr>\n",
       "      <th>4</th>\n",
       "      <td>25.0</td>\n",
       "      <td>38.0</td>\n",
       "      <td>114532012.0</td>\n",
       "      <td>1.0</td>\n",
       "      <td>6.0</td>\n",
       "      <td>1.0</td>\n",
       "      <td>10.0</td>\n",
       "      <td>NaN</td>\n",
       "      <td>0.0</td>\n",
       "      <td>165.0</td>\n",
       "      <td>1.0</td>\n",
       "      <td>0.0</td>\n",
       "      <td>0.0</td>\n",
       "      <td>0.157895</td>\n",
       "      <td>348.0</td>\n",
       "      <td>60.0</td>\n",
       "      <td>NaN</td>\n",
       "      <td>0.0</td>\n",
       "      <td>2.0</td>\n",
       "      <td>24.106789</td>\n",
       "      <td>0.0</td>\n",
       "      <td>0.0</td>\n",
       "      <td>0.875000</td>\n",
       "    </tr>\n",
       "  </tbody>\n",
       "</table>\n",
       "</div>"
      ],
      "text/plain": [
       "    age  charmes  identifiant  label  mails  from_europ  paniers  poids  \\\n",
       "0  23.0     74.0  115353179.0    1.0    0.0         1.0      0.0    NaN   \n",
       "1  25.0    337.0  113878261.0    1.0   15.0         0.0      4.0   55.0   \n",
       "2  26.0    475.0  114925419.0    1.0   28.0         1.0      0.0   50.0   \n",
       "3  20.0    144.0  114856526.0    1.0   10.0         0.0      0.0    NaN   \n",
       "4  25.0     38.0  114532012.0    1.0    6.0         1.0     10.0    NaN   \n",
       "\n",
       "   tabac  taille  lunettes  tatouage  piercing  accessibilité  \\\n",
       "0    0.0   165.0       0.0       0.0       0.0       0.000000   \n",
       "1    0.0   165.0       0.0       0.0       0.0       0.044510   \n",
       "2    0.0   160.0       1.0       0.0       0.0       0.058947   \n",
       "3    0.0   160.0       0.0       0.0       0.0       0.069444   \n",
       "4    0.0   165.0       1.0       0.0       0.0       0.157895   \n",
       "\n",
       "   long_description  nbMots_description       IMC  a_redoublé  \\\n",
       "0             367.0                64.0       NaN         0.0   \n",
       "1               0.0                 0.0  20.20202         0.0   \n",
       "2               0.0                 0.0  19.53125         0.0   \n",
       "3             391.0                64.0       NaN         0.0   \n",
       "4             348.0                60.0       NaN         0.0   \n",
       "\n",
       "   nb_series_communes  distanceToMe  est_de_nuit  may_be_maman  pct_complétion  \n",
       "0                 0.0     30.932590          0.0           0.0        0.750000  \n",
       "1                 0.0     18.980000          0.0           0.0        0.750000  \n",
       "2                 1.0     21.195632          0.0           0.0        0.791667  \n",
       "3                 1.0     10.500000          0.0           0.0        0.833333  \n",
       "4                 2.0     24.106789          0.0           0.0        0.875000  "
      ]
     },
     "execution_count": 2,
     "metadata": {},
     "output_type": "execute_result"
    }
   ],
   "source": [
    "train = pd.read_excel('data_Femmes.xls')\n",
    "train.origine = np.where(train.origine=='européennes', 1, 0)\n",
    "train.rename(columns={'origine':'from_europ'}, inplace=True)\n",
    "\n",
    "train.tabac = train.tabac.map({'ne tolère pas la fumée':0, 'tolère la fumée':0, 'en soirée':1,\n",
    "                               'souvent':2, \"j'essaie d'arrêter\":1, 'de temps en temps':1, np.nan:0})\n",
    "\n",
    "train = train.select_dtypes(('float', 'int', 'bool')).astype('float')\n",
    "print(train.shape)\n",
    "train.head()"
   ]
  },
  {
   "cell_type": "code",
   "execution_count": 3,
   "metadata": {},
   "outputs": [],
   "source": [
    "# Normalisation : \n",
    "train = (train - train.mean()) / (train.std())"
   ]
  },
  {
   "cell_type": "code",
   "execution_count": 4,
   "metadata": {},
   "outputs": [
    {
     "data": {
      "text/html": [
       "<div>\n",
       "<style scoped>\n",
       "    .dataframe tbody tr th:only-of-type {\n",
       "        vertical-align: middle;\n",
       "    }\n",
       "\n",
       "    .dataframe tbody tr th {\n",
       "        vertical-align: top;\n",
       "    }\n",
       "\n",
       "    .dataframe thead th {\n",
       "        text-align: right;\n",
       "    }\n",
       "</style>\n",
       "<table border=\"1\" class=\"dataframe\">\n",
       "  <thead>\n",
       "    <tr style=\"text-align: right;\">\n",
       "      <th></th>\n",
       "      <th>age</th>\n",
       "      <th>charmes</th>\n",
       "      <th>identifiant</th>\n",
       "      <th>label</th>\n",
       "      <th>mails</th>\n",
       "      <th>from_europ</th>\n",
       "      <th>paniers</th>\n",
       "      <th>poids</th>\n",
       "      <th>tabac</th>\n",
       "      <th>taille</th>\n",
       "      <th>lunettes</th>\n",
       "      <th>tatouage</th>\n",
       "      <th>piercing</th>\n",
       "      <th>accessibilité</th>\n",
       "      <th>long_description</th>\n",
       "      <th>nbMots_description</th>\n",
       "      <th>IMC</th>\n",
       "      <th>a_redoublé</th>\n",
       "      <th>nb_series_communes</th>\n",
       "      <th>distanceToMe</th>\n",
       "      <th>est_de_nuit</th>\n",
       "      <th>may_be_maman</th>\n",
       "      <th>pct_complétion</th>\n",
       "    </tr>\n",
       "  </thead>\n",
       "  <tbody>\n",
       "    <tr>\n",
       "      <th>0</th>\n",
       "      <td>-0.588369</td>\n",
       "      <td>-0.367834</td>\n",
       "      <td>0.430220</td>\n",
       "      <td>1.308076</td>\n",
       "      <td>-0.409347</td>\n",
       "      <td>0.675777</td>\n",
       "      <td>-0.431616</td>\n",
       "      <td>NaN</td>\n",
       "      <td>-0.452887</td>\n",
       "      <td>0.208323</td>\n",
       "      <td>-0.599947</td>\n",
       "      <td>-0.50422</td>\n",
       "      <td>-0.417211</td>\n",
       "      <td>-0.781043</td>\n",
       "      <td>0.110280</td>\n",
       "      <td>0.085813</td>\n",
       "      <td>NaN</td>\n",
       "      <td>-0.226466</td>\n",
       "      <td>-0.620204</td>\n",
       "      <td>0.047254</td>\n",
       "      <td>-0.221849</td>\n",
       "      <td>-0.186959</td>\n",
       "      <td>-0.067167</td>\n",
       "    </tr>\n",
       "    <tr>\n",
       "      <th>1</th>\n",
       "      <td>0.436221</td>\n",
       "      <td>-0.241317</td>\n",
       "      <td>0.388134</td>\n",
       "      <td>1.308076</td>\n",
       "      <td>-0.329808</td>\n",
       "      <td>-1.476997</td>\n",
       "      <td>-0.287766</td>\n",
       "      <td>0.031658</td>\n",
       "      <td>-0.452887</td>\n",
       "      <td>0.208323</td>\n",
       "      <td>-0.599947</td>\n",
       "      <td>-0.50422</td>\n",
       "      <td>-0.417211</td>\n",
       "      <td>-0.572055</td>\n",
       "      <td>-0.790243</td>\n",
       "      <td>-0.788700</td>\n",
       "      <td>-0.057611</td>\n",
       "      <td>-0.226466</td>\n",
       "      <td>-0.620204</td>\n",
       "      <td>-0.244529</td>\n",
       "      <td>-0.221849</td>\n",
       "      <td>-0.186959</td>\n",
       "      <td>-0.067167</td>\n",
       "    </tr>\n",
       "    <tr>\n",
       "      <th>2</th>\n",
       "      <td>0.948517</td>\n",
       "      <td>-0.174932</td>\n",
       "      <td>0.418014</td>\n",
       "      <td>1.308076</td>\n",
       "      <td>-0.260874</td>\n",
       "      <td>0.675777</td>\n",
       "      <td>-0.431616</td>\n",
       "      <td>-0.366180</td>\n",
       "      <td>-0.452887</td>\n",
       "      <td>-0.533827</td>\n",
       "      <td>1.663682</td>\n",
       "      <td>-0.50422</td>\n",
       "      <td>-0.417211</td>\n",
       "      <td>-0.504270</td>\n",
       "      <td>-0.790243</td>\n",
       "      <td>-0.788700</td>\n",
       "      <td>-0.213197</td>\n",
       "      <td>-0.226466</td>\n",
       "      <td>0.789833</td>\n",
       "      <td>-0.190441</td>\n",
       "      <td>-0.221849</td>\n",
       "      <td>-0.186959</td>\n",
       "      <td>0.205603</td>\n",
       "    </tr>\n",
       "    <tr>\n",
       "      <th>3</th>\n",
       "      <td>-2.125256</td>\n",
       "      <td>-0.334160</td>\n",
       "      <td>0.416048</td>\n",
       "      <td>1.308076</td>\n",
       "      <td>-0.356321</td>\n",
       "      <td>-1.476997</td>\n",
       "      <td>-0.431616</td>\n",
       "      <td>NaN</td>\n",
       "      <td>-0.452887</td>\n",
       "      <td>-0.533827</td>\n",
       "      <td>-0.599947</td>\n",
       "      <td>-0.50422</td>\n",
       "      <td>-0.417211</td>\n",
       "      <td>-0.454984</td>\n",
       "      <td>0.169170</td>\n",
       "      <td>0.085813</td>\n",
       "      <td>NaN</td>\n",
       "      <td>-0.226466</td>\n",
       "      <td>0.789833</td>\n",
       "      <td>-0.451539</td>\n",
       "      <td>-0.221849</td>\n",
       "      <td>-0.186959</td>\n",
       "      <td>0.478374</td>\n",
       "    </tr>\n",
       "    <tr>\n",
       "      <th>4</th>\n",
       "      <td>0.436221</td>\n",
       "      <td>-0.385152</td>\n",
       "      <td>0.406788</td>\n",
       "      <td>1.308076</td>\n",
       "      <td>-0.377531</td>\n",
       "      <td>0.675777</td>\n",
       "      <td>-0.071992</td>\n",
       "      <td>NaN</td>\n",
       "      <td>-0.452887</td>\n",
       "      <td>0.208323</td>\n",
       "      <td>1.663682</td>\n",
       "      <td>-0.50422</td>\n",
       "      <td>-0.417211</td>\n",
       "      <td>-0.039688</td>\n",
       "      <td>0.063659</td>\n",
       "      <td>0.031156</td>\n",
       "      <td>NaN</td>\n",
       "      <td>-0.226466</td>\n",
       "      <td>2.199870</td>\n",
       "      <td>-0.119375</td>\n",
       "      <td>-0.221849</td>\n",
       "      <td>-0.186959</td>\n",
       "      <td>0.751144</td>\n",
       "    </tr>\n",
       "  </tbody>\n",
       "</table>\n",
       "</div>"
      ],
      "text/plain": [
       "        age   charmes  identifiant     label     mails  from_europ   paniers  \\\n",
       "0 -0.588369 -0.367834     0.430220  1.308076 -0.409347    0.675777 -0.431616   \n",
       "1  0.436221 -0.241317     0.388134  1.308076 -0.329808   -1.476997 -0.287766   \n",
       "2  0.948517 -0.174932     0.418014  1.308076 -0.260874    0.675777 -0.431616   \n",
       "3 -2.125256 -0.334160     0.416048  1.308076 -0.356321   -1.476997 -0.431616   \n",
       "4  0.436221 -0.385152     0.406788  1.308076 -0.377531    0.675777 -0.071992   \n",
       "\n",
       "      poids     tabac    taille  lunettes  tatouage  piercing  accessibilité  \\\n",
       "0       NaN -0.452887  0.208323 -0.599947  -0.50422 -0.417211      -0.781043   \n",
       "1  0.031658 -0.452887  0.208323 -0.599947  -0.50422 -0.417211      -0.572055   \n",
       "2 -0.366180 -0.452887 -0.533827  1.663682  -0.50422 -0.417211      -0.504270   \n",
       "3       NaN -0.452887 -0.533827 -0.599947  -0.50422 -0.417211      -0.454984   \n",
       "4       NaN -0.452887  0.208323  1.663682  -0.50422 -0.417211      -0.039688   \n",
       "\n",
       "   long_description  nbMots_description       IMC  a_redoublé  \\\n",
       "0          0.110280            0.085813       NaN   -0.226466   \n",
       "1         -0.790243           -0.788700 -0.057611   -0.226466   \n",
       "2         -0.790243           -0.788700 -0.213197   -0.226466   \n",
       "3          0.169170            0.085813       NaN   -0.226466   \n",
       "4          0.063659            0.031156       NaN   -0.226466   \n",
       "\n",
       "   nb_series_communes  distanceToMe  est_de_nuit  may_be_maman  pct_complétion  \n",
       "0           -0.620204      0.047254    -0.221849     -0.186959       -0.067167  \n",
       "1           -0.620204     -0.244529    -0.221849     -0.186959       -0.067167  \n",
       "2            0.789833     -0.190441    -0.221849     -0.186959        0.205603  \n",
       "3            0.789833     -0.451539    -0.221849     -0.186959        0.478374  \n",
       "4            2.199870     -0.119375    -0.221849     -0.186959        0.751144  "
      ]
     },
     "execution_count": 4,
     "metadata": {},
     "output_type": "execute_result"
    }
   ],
   "source": [
    "train.head()"
   ]
  },
  {
   "cell_type": "code",
   "execution_count": 5,
   "metadata": {},
   "outputs": [
    {
     "data": {
      "text/plain": [
       "((425, 22), (107, 22), (425,), (107,))"
      ]
     },
     "execution_count": 5,
     "metadata": {},
     "output_type": "execute_result"
    }
   ],
   "source": [
    "# Obtention d'un échantillon d'entraînement et d'un échantillon de validation : \n",
    "from sklearn.model_selection import train_test_split\n",
    "mini_train_X, valid_X, mini_train_y, valid_y = train_test_split(train.drop('label', 1), \n",
    "                                                                train.label, \n",
    "                                                                test_size=0.2)\n",
    "mini_train_X.shape, valid_X.shape, mini_train_y.shape, valid_y.shape"
   ]
  },
  {
   "cell_type": "markdown",
   "metadata": {},
   "source": [
    "### Pearson"
   ]
  },
  {
   "cell_type": "code",
   "execution_count": 6,
   "metadata": {},
   "outputs": [
    {
     "name": "stdout",
     "output_type": "stream",
     "text": [
      "La corrélation (pearson) minimale avec la cible est -0.3611 ; la corrélation maximale avec la cible est 0.1989.\n",
      "Itération 0/231 ;  23/231 ;  46/231 ;  69/231 ;  92/231 ;  115/231 ;  138/231 ;  161/231 ;  184/231 ;  207/231 ;  230/231 ;  "
     ]
    }
   ],
   "source": [
    "heuristique_p = Heuristique_TSE(mini_train_X, mini_train_y, \n",
    "                                corr_mode='pearson', interaction_mode=\"-\", marge=0.05)\n",
    "heuristique_p.make_interactions()"
   ]
  },
  {
   "cell_type": "code",
   "execution_count": 7,
   "metadata": {},
   "outputs": [
    {
     "data": {
      "text/plain": [
       "([('age', 'tabac', 0.2843),\n",
       "  ('age', 'tatouage', 0.305),\n",
       "  ('age', 'piercing', 0.2625),\n",
       "  ('charmes', 'tabac', 0.2607),\n",
       "  ('charmes', 'tatouage', 0.2778),\n",
       "  ('mails', 'tabac', 0.2726),\n",
       "  ('mails', 'tatouage', 0.2864),\n",
       "  ('mails', 'piercing', 0.2527),\n",
       "  ('from_europ', 'tabac', 0.3138),\n",
       "  ('from_europ', 'tatouage', 0.3451),\n",
       "  ('from_europ', 'piercing', 0.3021),\n",
       "  ('paniers', 'tabac', 0.2527),\n",
       "  ('paniers', 'tatouage', 0.269),\n",
       "  ('lunettes', 'tatouage', 0.3944),\n",
       "  ('lunettes', 'piercing', 0.3364)],\n",
       " 15)"
      ]
     },
     "execution_count": 7,
     "metadata": {},
     "output_type": "execute_result"
    }
   ],
   "source": [
    "#heuristique_p.change_marge(0.1)\n",
    "pearson_corr = heuristique_p.interactions_à_créer\n",
    "pearson_corr, len(pearson_corr)"
   ]
  },
  {
   "cell_type": "code",
   "execution_count": 8,
   "metadata": {},
   "outputs": [
    {
     "name": "stdout",
     "output_type": "stream",
     "text": [
      "///Corr. entre age et tabac = 0.1014, significative sur le train mais pas sur le valid !///\n",
      "///Corr. entre age et piercing = 0.0113, significative sur le train mais pas sur le valid !///\n",
      "///Corr. entre charmes et tatouage = 0.0461, significative sur le train mais pas sur le valid !///\n",
      "///Corr. entre mails et tatouage = 0.0231, significative sur le train mais pas sur le valid !///\n",
      "///Corr. entre from_europ et tabac = -0.0880, significative sur le train mais pas sur le valid !///\n",
      "///Corr. entre from_europ et piercing = 0.0323, significative sur le train mais pas sur le valid !///\n",
      "///Corr. entre paniers et tatouage = -0.0080, significative sur le train mais pas sur le valid !///\n",
      "///Corr. entre lunettes et piercing = -0.0397, significative sur le train mais pas sur le valid !///\n"
     ]
    }
   ],
   "source": [
    "heuristique_p.valide_interaction(valid_X, valid_y, remove=True) # vérification que les interactions sont bonnes"
   ]
  },
  {
   "cell_type": "code",
   "execution_count": 9,
   "metadata": {},
   "outputs": [
    {
     "data": {
      "text/plain": [
       "[('age', 'tatouage', 0.305),\n",
       " ('charmes', 'tabac', 0.2607),\n",
       " ('mails', 'tabac', 0.2726),\n",
       " ('mails', 'piercing', 0.2527),\n",
       " ('from_europ', 'tatouage', 0.3451),\n",
       " ('paniers', 'tabac', 0.2527),\n",
       " ('lunettes', 'tatouage', 0.3944)]"
      ]
     },
     "execution_count": 9,
     "metadata": {},
     "output_type": "execute_result"
    }
   ],
   "source": [
    "heuristique_p.interactions_à_créer"
   ]
  },
  {
   "cell_type": "markdown",
   "metadata": {},
   "source": [
    "### Spearman\n",
    "Si l'on n'est pas pressé, on peut vérifier que les interactions suggérées par Pearson sont également vérifiées par Spearman."
   ]
  },
  {
   "cell_type": "code",
   "execution_count": 10,
   "metadata": {},
   "outputs": [
    {
     "name": "stdout",
     "output_type": "stream",
     "text": [
      "La corrélation (spearman) minimale avec la cible est -0.3668 ; la corrélation maximale avec la cible est 0.1764.\n",
      "Itération 0/231 ;  23/231 ;  46/231 ;  69/231 ;  92/231 ;  115/231 ;  138/231 ;  161/231 ;  184/231 ;  207/231 ;  230/231 ;  "
     ]
    }
   ],
   "source": [
    "heuristique_sp = Heuristique_TSE(mini_train_X, mini_train_y, corr_mode='spearman', interaction_mode=\"-\", marge=0.05)\n",
    "heuristique_sp.make_interactions()"
   ]
  },
  {
   "cell_type": "code",
   "execution_count": 11,
   "metadata": {},
   "outputs": [
    {
     "data": {
      "text/plain": [
       "([('age', 'tabac', 0.2717),\n",
       "  ('age', 'tatouage', 0.2974),\n",
       "  ('age', 'piercing', 0.2449),\n",
       "  ('charmes', 'tabac', 0.3001),\n",
       "  ('charmes', 'tatouage', 0.3049),\n",
       "  ('charmes', 'piercing', 0.2568),\n",
       "  ('mails', 'tabac', 0.2536),\n",
       "  ('mails', 'tatouage', 0.2706),\n",
       "  ('from_europ', 'tabac', 0.2872),\n",
       "  ('from_europ', 'tatouage', 0.3725),\n",
       "  ('from_europ', 'piercing', 0.306),\n",
       "  ('paniers', 'tabac', 0.2733),\n",
       "  ('paniers', 'tatouage', 0.2768),\n",
       "  ('lunettes', 'tatouage', 0.425),\n",
       "  ('lunettes', 'piercing', 0.35)],\n",
       " 15)"
      ]
     },
     "execution_count": 11,
     "metadata": {},
     "output_type": "execute_result"
    }
   ],
   "source": [
    "#heuristique_sp.change_marge(0.1)\n",
    "spearman_corr = heuristique_sp.interactions_à_créer\n",
    "spearman_corr, len(spearman_corr)"
   ]
  },
  {
   "cell_type": "code",
   "execution_count": 12,
   "metadata": {},
   "outputs": [
    {
     "name": "stdout",
     "output_type": "stream",
     "text": [
      "///Corr. entre age et tabac = 0.1014, significative sur le train mais pas sur le valid !///\n",
      "///Corr. entre age et piercing = 0.0113, significative sur le train mais pas sur le valid !///\n",
      "///Corr. entre charmes et tatouage = 0.0461, significative sur le train mais pas sur le valid !///\n",
      "///Corr. entre mails et tabac = 0.1171, significative sur le train mais pas sur le valid !///\n",
      "///Corr. entre from_europ et tabac = -0.0880, significative sur le train mais pas sur le valid !///\n",
      "///Corr. entre from_europ et piercing = 0.0323, significative sur le train mais pas sur le valid !///\n",
      "///Corr. entre paniers et tatouage = -0.0080, significative sur le train mais pas sur le valid !///\n",
      "///Corr. entre lunettes et piercing = -0.0397, significative sur le train mais pas sur le valid !///\n"
     ]
    },
    {
     "data": {
      "text/plain": [
       "[('age', 'tatouage', 0.2974),\n",
       " ('charmes', 'tabac', 0.3001),\n",
       " ('charmes', 'piercing', 0.2568),\n",
       " ('mails', 'tatouage', 0.2706),\n",
       " ('from_europ', 'tatouage', 0.3725),\n",
       " ('paniers', 'tabac', 0.2733),\n",
       " ('lunettes', 'tatouage', 0.425)]"
      ]
     },
     "execution_count": 12,
     "metadata": {},
     "output_type": "execute_result"
    }
   ],
   "source": [
    "heuristique_sp.valide_interaction(X_valid=valid_X, y_valid=valid_y, remove=True)\n",
    "heuristique_sp.interactions_à_créer"
   ]
  },
  {
   "cell_type": "markdown",
   "metadata": {},
   "source": [
    "### Intersections \n",
    "Seules les interactions validées par plusieurs méthodes seront conservées *in fine* pour notre modèle, et ce afin de limiter le risque de surapprentissage.\n",
    "<img src='vennes.png' width=600px>"
   ]
  },
  {
   "cell_type": "code",
   "execution_count": 13,
   "metadata": {},
   "outputs": [
    {
     "name": "stdout",
     "output_type": "stream",
     "text": [
      "Les interactions suggérées par Pearson :\n",
      " [('age', 'tatouage', 0.305), ('charmes', 'tabac', 0.2607), ('mails', 'tabac', 0.2726), ('mails', 'piercing', 0.2527), ('from_europ', 'tatouage', 0.3451), ('paniers', 'tabac', 0.2527), ('lunettes', 'tatouage', 0.3944)]\n",
      "\n",
      "Les interactions suggérées par Spearman :\n",
      " [('age', 'tatouage', 0.2974), ('charmes', 'tabac', 0.3001), ('charmes', 'piercing', 0.2568), ('mails', 'tatouage', 0.2706), ('from_europ', 'tatouage', 0.3725), ('paniers', 'tabac', 0.2733), ('lunettes', 'tatouage', 0.425)]\n"
     ]
    }
   ],
   "source": [
    "print(\"Les interactions suggérées par Pearson :\\n\", heuristique_p.interactions_à_créer)\n",
    "print(\"\\nLes interactions suggérées par Spearman :\\n\", heuristique_sp.interactions_à_créer)"
   ]
  },
  {
   "cell_type": "code",
   "execution_count": 14,
   "metadata": {},
   "outputs": [],
   "source": [
    "def intersection(interactions1, interactions2):\n",
    "    interactions1 = {(x[0], x[1]) for x in interactions1}\n",
    "    interactions2 = {(x[0], x[1]) for x in interactions2}\n",
    "    return interactions1.intersection(interactions2)"
   ]
  },
  {
   "cell_type": "code",
   "execution_count": 15,
   "metadata": {},
   "outputs": [
    {
     "data": {
      "text/plain": [
       "{('age', 'tatouage'),\n",
       " ('charmes', 'tabac'),\n",
       " ('from_europ', 'tatouage'),\n",
       " ('lunettes', 'tatouage'),\n",
       " ('paniers', 'tabac')}"
      ]
     },
     "execution_count": 15,
     "metadata": {},
     "output_type": "execute_result"
    }
   ],
   "source": [
    "# Les intersections communes aux deux méthodes.\n",
    "intersection(heuristique_p.interactions_à_créer, \n",
    "             heuristique_sp.interactions_à_créer)"
   ]
  },
  {
   "cell_type": "markdown",
   "metadata": {},
   "source": [
    "Ces interactions sont suggérées par leur forte corrélation (Pearson **et** Spearman) avec la cible. Reste à les valider si elles ont du *sens*."
   ]
  },
  {
   "cell_type": "markdown",
   "metadata": {},
   "source": [
    "### Table de vérité\n",
    "Pour justifier la pertinence des interactions créées, regardons la table de vérité de 2 variables : `lunettes`et `tatouage`. Cette table est déterminée <u>sur notre exemple</u>, car on connait parfaitement le processus générateur de la cible `label`."
   ]
  },
  {
   "cell_type": "code",
   "execution_count": 16,
   "metadata": {},
   "outputs": [
    {
     "name": "stdout",
     "output_type": "stream",
     "text": [
      "Cor(lunettes, label) = 0.58\n",
      "Cor(tatouage, label) = -0.58\n",
      "Cor(lunette-tatouage, label) = 0.82\n"
     ]
    },
    {
     "data": {
      "text/html": [
       "<div>\n",
       "<style scoped>\n",
       "    .dataframe tbody tr th:only-of-type {\n",
       "        vertical-align: middle;\n",
       "    }\n",
       "\n",
       "    .dataframe tbody tr th {\n",
       "        vertical-align: top;\n",
       "    }\n",
       "\n",
       "    .dataframe thead th {\n",
       "        text-align: right;\n",
       "    }\n",
       "</style>\n",
       "<table border=\"1\" class=\"dataframe\">\n",
       "  <thead>\n",
       "    <tr style=\"text-align: right;\">\n",
       "      <th></th>\n",
       "      <th>lunettes</th>\n",
       "      <th>tatouage</th>\n",
       "      <th>lunettes-tatouage</th>\n",
       "      <th>label</th>\n",
       "    </tr>\n",
       "  </thead>\n",
       "  <tbody>\n",
       "    <tr>\n",
       "      <th>0</th>\n",
       "      <td>0</td>\n",
       "      <td>0</td>\n",
       "      <td>0</td>\n",
       "      <td>0</td>\n",
       "    </tr>\n",
       "    <tr>\n",
       "      <th>1</th>\n",
       "      <td>0</td>\n",
       "      <td>1</td>\n",
       "      <td>-1</td>\n",
       "      <td>0</td>\n",
       "    </tr>\n",
       "    <tr>\n",
       "      <th>2</th>\n",
       "      <td>1</td>\n",
       "      <td>0</td>\n",
       "      <td>1</td>\n",
       "      <td>1</td>\n",
       "    </tr>\n",
       "    <tr>\n",
       "      <th>3</th>\n",
       "      <td>1</td>\n",
       "      <td>1</td>\n",
       "      <td>0</td>\n",
       "      <td>0</td>\n",
       "    </tr>\n",
       "  </tbody>\n",
       "</table>\n",
       "</div>"
      ],
      "text/plain": [
       "   lunettes  tatouage  lunettes-tatouage  label\n",
       "0         0         0                  0      0\n",
       "1         0         1                 -1      0\n",
       "2         1         0                  1      1\n",
       "3         1         1                  0      0"
      ]
     },
     "execution_count": 16,
     "metadata": {},
     "output_type": "execute_result"
    }
   ],
   "source": [
    "# Table de vérité théorique : \n",
    "TdV = pd.DataFrame({'lunettes':[0, 0, 1, 1], \n",
    "                    'tatouage':[0, 1, 0, 1], \n",
    "                    'lunettes-tatouage':[0, -1, 1, 0], \n",
    "                    'label':[0, 0, 1, 0]})\n",
    "\n",
    "print(\"Cor(lunettes, label) = %.2f\"%np.corrcoef(TdV['lunettes'], TdV.label)[0,1])\n",
    "print(\"Cor(tatouage, label) = %.2f\"%np.corrcoef(TdV['tatouage'], TdV.label)[0,1])\n",
    "print(\"Cor(lunette-tatouage, label) = %.2f\"%np.corrcoef(TdV['lunettes-tatouage'], TdV.label)[0,1])\n",
    "TdV"
   ]
  },
  {
   "cell_type": "code",
   "execution_count": 17,
   "metadata": {},
   "outputs": [
    {
     "name": "stdout",
     "output_type": "stream",
     "text": [
      "Cor(lunette, cible) = 0.13\n",
      "Cor(tatouage, cible) = -0.37\n",
      "Cor(lunette-tatouage, cible) = 0.38\n"
     ]
    }
   ],
   "source": [
    "# Constatation empirique : \n",
    "print(\"Cor(lunette, cible) = %.2f\"%np.corrcoef(train['lunettes'], train.label)[0,1])\n",
    "print(\"Cor(tatouage, cible) = %.2f\"%np.corrcoef(train['tatouage'], train.label)[0,1])\n",
    "print(\"Cor(lunette-tatouage, cible) = %.2f\"%np.corrcoef(train.lunettes-train.tatouage, train.label)[0,1])"
   ]
  }
 ],
 "metadata": {
  "kernelspec": {
   "display_name": "Python 3",
   "language": "python",
   "name": "python3"
  },
  "language_info": {
   "codemirror_mode": {
    "name": "ipython",
    "version": 3
   },
   "file_extension": ".py",
   "mimetype": "text/x-python",
   "name": "python",
   "nbconvert_exporter": "python",
   "pygments_lexer": "ipython3",
   "version": "3.6.5"
  }
 },
 "nbformat": 4,
 "nbformat_minor": 2
}
